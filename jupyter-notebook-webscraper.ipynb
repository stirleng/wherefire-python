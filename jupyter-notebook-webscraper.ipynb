{
 "cells": [
  {
   "cell_type": "code",
   "execution_count": 12,
   "metadata": {},
   "outputs": [],
   "source": [
    "import requests\n",
    "import csv\n",
    "from bs4 import BeautifulSoup as BS\n",
    "\n",
    "#constants\n",
    "#=========\n",
    "\n",
    "#tbody tag only occurs once on page (tbody is short for table body)\n",
    "RESULT_TABLE_TAG = \"tbody\" \n",
    "\n",
    "#link tags (link to specific fire incident page)\n",
    "FIRE_NAMES_TAG = \"a\"\n",
    "\n",
    "current_year_url = 'https://www.fire.ca.gov/incidents'\n",
    "prev_year_url = 'https://www.fire.ca.gov/incidents/2022/'\n",
    "\n",
    "#specify certain request headers so the website doesn't 403 our request and we receive an xml response\n",
    "headers = {  'Connection': 'close', 'Accept': 'application/xml', 'User-Agent': 'Mozilla/5.0 (Windows NT 10.0; Win64; x64; rv:109.0) Gecko/20100101 Firefox/111.0'} \n",
    "\n",
    "#/constants\n",
    "#=========="
   ]
  },
  {
   "cell_type": "code",
   "execution_count": 19,
   "metadata": {},
   "outputs": [
    {
     "name": "stdout",
     "output_type": "stream",
     "text": [
      "<class 'bs4.element.Tag'>\n"
     ]
    }
   ],
   "source": [
    "response_xml = requests.get(prev_year_url, headers=headers)\n",
    "response_text = response_xml.text\n",
    "\n",
    "#parse xml using lxml parser\n",
    "soup = BS(response_text, 'lxml')\n",
    "\n",
    "data_table = soup.find(RESULT_TABLE_TAG)\n",
    "fire_names = data_table.find_all(FIRE_NAMES_TAG)\n",
    "print(type(fire_names[0]))\n"
   ]
  },
  {
   "cell_type": "code",
   "execution_count": null,
   "metadata": {},
   "outputs": [],
   "source": []
  }
 ],
 "metadata": {
  "kernelspec": {
   "display_name": "Python 3",
   "language": "python",
   "name": "python3"
  },
  "language_info": {
   "codemirror_mode": {
    "name": "ipython",
    "version": 3
   },
   "file_extension": ".py",
   "mimetype": "text/x-python",
   "name": "python",
   "nbconvert_exporter": "python",
   "pygments_lexer": "ipython3",
   "version": "3.10.2"
  },
  "orig_nbformat": 4
 },
 "nbformat": 4,
 "nbformat_minor": 2
}
